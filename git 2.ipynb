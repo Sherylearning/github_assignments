{
 "cells": [
  {
   "cell_type": "code",
   "execution_count": null,
   "metadata": {},
   "outputs": [],
   "source": []
  }
 ],
 "metadata": {
  "kernelspec": {
   "display_name": "Python 3",
   "language": "python",
   "name": "python3"
  },
  "language_info": {
   "name": "python",
   "version": "3.11.1"
  },
  "orig_nbformat": 4,
  "vscode": {
   "interpreter": {
    "hash": "f8b049a1be62040d421b0919ad508cb129748722349ff390a066563fcb9d44af"
   }
  }
 },
 "nbformat": 4,
 "nbformat_minor": 2
}
